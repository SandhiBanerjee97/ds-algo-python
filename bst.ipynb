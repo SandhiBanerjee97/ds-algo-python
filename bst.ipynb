{
 "cells": [
  {
   "cell_type": "markdown",
   "id": "ad64b520-5568-4df3-823d-61e94010e8c3",
   "metadata": {},
   "source": [
    "<h3> Binary tree </h3>\n",
    "<h4> binary tree is a hierarchical data structure in which each node has at most two children </h4>"
   ]
  },
  {
   "cell_type": "markdown",
   "id": "3b252e8d-fc98-413f-b6df-e4cd89ffd086",
   "metadata": {},
   "source": [
    "<h3> Binary Search tree </h3>\n",
    "<h4> A binary search tree (BST) is a specific type of binary tree that follows a particular ordering property </h4>\n",
    "<h4> - All nodes in its left subtree have values less than the node's value. </h4>\n",
    "<h4> - All nodes in its right subtree have values greater than the node's value. </h4>\n",
    "<h4> - Both the left and right subtrees are also binary search trees. </h4>"
   ]
  },
  {
   "cell_type": "markdown",
   "id": "ac99b4f5-ba4b-4fb5-b219-bec36f6a748b",
   "metadata": {},
   "source": [
    "<h3> Balanced binary search tree </h3>"
   ]
  },
  {
   "cell_type": "markdown",
   "id": "eae2b1d6-8359-4e12-85fc-e9722e5f96b9",
   "metadata": {},
   "source": [
    "![](balanced_bst_1.png)"
   ]
  },
  {
   "cell_type": "markdown",
   "id": "21136fe7-d904-4edf-87ca-5a72d703799f",
   "metadata": {},
   "source": [
    "![](balanced_bst_2.png)"
   ]
  },
  {
   "cell_type": "code",
   "execution_count": null,
   "id": "9d939e15-6ab4-4280-bdf4-ba0d82bdebd0",
   "metadata": {},
   "outputs": [],
   "source": []
  }
 ],
 "metadata": {
  "kernelspec": {
   "display_name": "Python 3 (ipykernel)",
   "language": "python",
   "name": "python3"
  },
  "language_info": {
   "codemirror_mode": {
    "name": "ipython",
    "version": 3
   },
   "file_extension": ".py",
   "mimetype": "text/x-python",
   "name": "python",
   "nbconvert_exporter": "python",
   "pygments_lexer": "ipython3",
   "version": "3.10.11"
  }
 },
 "nbformat": 4,
 "nbformat_minor": 5
}
