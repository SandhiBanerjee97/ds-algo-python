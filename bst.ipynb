{
 "cells": [
  {
   "cell_type": "code",
   "execution_count": null,
   "id": "25b278e1-5cf0-43cd-88c9-1c36d23140ac",
   "metadata": {},
   "outputs": [],
   "source": [
    "# Height of binary tree : number of edges on the longest path between root-node and leaf node \n",
    "# A tree/sub-tree with only one node has Height = 0 \n",
    "# A tree/sub-tree with no node has Height = -1 \n",
    "# Balancled binary tree : A binary tree is called a balanced binary tree , if the difference between height of left and right sub-tree from every node is not more than 1 \n",
    "\n",
    "\n",
    "# A balanced BST must satisfy (H = height of tree, N = number of nodes at that level)\n",
    "# H = logN (base2) - 1\n",
    "# H ≈ logN (base2)\n",
    "# AKA \n",
    "# 2^(H+1) = N"
   ]
  },
  {
   "cell_type": "code",
   "execution_count": null,
   "id": "f87ce27a-0167-4b25-91d5-4ed86f95bce5",
   "metadata": {},
   "outputs": [],
   "source": []
  }
 ],
 "metadata": {
  "kernelspec": {
   "display_name": "Python 3 (ipykernel)",
   "language": "python",
   "name": "python3"
  },
  "language_info": {
   "codemirror_mode": {
    "name": "ipython",
    "version": 3
   },
   "file_extension": ".py",
   "mimetype": "text/x-python",
   "name": "python",
   "nbconvert_exporter": "python",
   "pygments_lexer": "ipython3",
   "version": "3.10.11"
  }
 },
 "nbformat": 4,
 "nbformat_minor": 5
}
