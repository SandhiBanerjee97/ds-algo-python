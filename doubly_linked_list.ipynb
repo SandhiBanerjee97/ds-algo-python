{
 "cells": [
  {
   "cell_type": "code",
   "execution_count": 1,
   "id": "8bfcb975-b506-45a3-a903-138addd8c914",
   "metadata": {},
   "outputs": [],
   "source": [
    "class Node():\n",
    "    def __init__(self,data):\n",
    "        self.data = data \n",
    "        self.next_node = None \n",
    "        self.previous_node = None "
   ]
  },
  {
   "cell_type": "code",
   "execution_count": 34,
   "id": "c617ca65-3a42-414c-b17f-9f3b4504b61b",
   "metadata": {},
   "outputs": [],
   "source": [
    "class DoublyLinkedList:\n",
    "    def __init__(self):\n",
    "        self.head = None \n",
    "        self.size = 0\n",
    "        \n",
    "    def get_size(self):\n",
    "        return self.size\n",
    "    \n",
    "    # O(1)\n",
    "    def insert_start(self,data):\n",
    "        self.size = self.size+1\n",
    "        new_node = Node(data) \n",
    "        \n",
    "        if self.head == None :\n",
    "            self.head = new_node\n",
    "        else:\n",
    "            current_node = self.head\n",
    "            new_node.next_node = current_node\n",
    "            current_node.previous_node = new_node\n",
    "            self.head = new_node\n",
    "            \n",
    "        # o(N)\n",
    "    def insert_end(self,data): \n",
    "        self.size = self.size+1\n",
    "        new_node = Node(data)\n",
    "        \n",
    "        if self.head is None:\n",
    "            self.head = new_node\n",
    "            return\n",
    "        \n",
    "        #Traverse to last node from head \n",
    "        current_node = self.head\n",
    "        while(current_node.next_node!= None):\n",
    "            current_node = current_node.next_node            \n",
    "        \n",
    "        current_node.next_node = new_node\n",
    "        new_node.previous_node = current_node\n",
    "        \n",
    "    def traverse(self):\n",
    "        current_node = self.head\n",
    "        while(current_node!= None):\n",
    "            print(\"current node data :\",current_node.data)\n",
    "            current_node = current_node.next_node  \n",
    "            "
   ]
  },
  {
   "cell_type": "code",
   "execution_count": 35,
   "id": "8a0eec96-8301-4443-9e2a-58a2355b7fa0",
   "metadata": {},
   "outputs": [],
   "source": [
    "linked_list = DoublyLinkedList()\n",
    "linked_list.insert_start(10)\n",
    "linked_list.insert_start(20)\n",
    "linked_list.insert_end(30)"
   ]
  },
  {
   "cell_type": "code",
   "execution_count": 36,
   "id": "a1cbcc59-f036-42ec-b989-95a87fad206c",
   "metadata": {},
   "outputs": [
    {
     "name": "stdout",
     "output_type": "stream",
     "text": [
      "current node data : 20\n",
      "current node data : 10\n",
      "current node data : 30\n"
     ]
    }
   ],
   "source": [
    "linked_list.traverse()"
   ]
  }
 ],
 "metadata": {
  "kernelspec": {
   "display_name": "Python 3 (ipykernel)",
   "language": "python",
   "name": "python3"
  },
  "language_info": {
   "codemirror_mode": {
    "name": "ipython",
    "version": 3
   },
   "file_extension": ".py",
   "mimetype": "text/x-python",
   "name": "python",
   "nbconvert_exporter": "python",
   "pygments_lexer": "ipython3",
   "version": "3.10.11"
  }
 },
 "nbformat": 4,
 "nbformat_minor": 5
}
