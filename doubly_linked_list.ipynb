{
 "cells": [
  {
   "cell_type": "code",
   "execution_count": 34,
   "id": "8bfcb975-b506-45a3-a903-138addd8c914",
   "metadata": {},
   "outputs": [],
   "source": [
    "class Node():\n",
    "    def __init__(self,data):\n",
    "        self.data = data \n",
    "        self.next_node = None \n",
    "        self.previous_node = None "
   ]
  },
  {
   "cell_type": "code",
   "execution_count": 35,
   "id": "c617ca65-3a42-414c-b17f-9f3b4504b61b",
   "metadata": {},
   "outputs": [],
   "source": [
    "class DoublyLinkedList:\n",
    "    def __init__(self):\n",
    "        self.head = None \n",
    "        self.size = 0\n",
    "    \n",
    "    # O(1)\n",
    "    def insert_start(self,data):\n",
    "        self.size = self.size+1\n",
    "        new_node = Node(data) \n",
    "        \n",
    "        if self.head == None :\n",
    "            self.head = new_node\n",
    "        else:\n",
    "            current_node = self.head\n",
    "            new_node.next_node = current_node\n",
    "            current_node.previous_node = new_node\n",
    "            self.head = new_node"
   ]
  },
  {
   "cell_type": "code",
   "execution_count": 36,
   "id": "8a0eec96-8301-4443-9e2a-58a2355b7fa0",
   "metadata": {},
   "outputs": [],
   "source": [
    "linked_list = DoublyLinkedList()\n",
    "linked_list.insert_start(10)\n",
    "linked_list.insert_start(20)"
   ]
  },
  {
   "cell_type": "code",
   "execution_count": 37,
   "id": "de8285a1-0f58-41a3-928f-8f04d4e70313",
   "metadata": {},
   "outputs": [
    {
     "name": "stdout",
     "output_type": "stream",
     "text": [
      "20\n"
     ]
    }
   ],
   "source": [
    "print(linked_list.head.data)"
   ]
  },
  {
   "cell_type": "code",
   "execution_count": 38,
   "id": "7da44888-9860-4284-954e-ee369ae17b07",
   "metadata": {},
   "outputs": [
    {
     "name": "stdout",
     "output_type": "stream",
     "text": [
      "None\n"
     ]
    }
   ],
   "source": [
    "print(linked_list.head.previous_node)"
   ]
  },
  {
   "cell_type": "code",
   "execution_count": 39,
   "id": "f499f785-dd2d-492c-b225-e5b868e60e97",
   "metadata": {},
   "outputs": [
    {
     "name": "stdout",
     "output_type": "stream",
     "text": [
      "10\n"
     ]
    }
   ],
   "source": [
    "print(linked_list.head.next_node.data)"
   ]
  },
  {
   "cell_type": "code",
   "execution_count": 40,
   "id": "32491315-717d-4fd3-985a-61d256c3c160",
   "metadata": {},
   "outputs": [
    {
     "name": "stdout",
     "output_type": "stream",
     "text": [
      "20\n"
     ]
    }
   ],
   "source": [
    "print(linked_list.head.next_node.previous_node.data)"
   ]
  },
  {
   "cell_type": "code",
   "execution_count": null,
   "id": "727e1d83-ea89-44c2-8fcc-4fdb92a2564b",
   "metadata": {},
   "outputs": [],
   "source": []
  }
 ],
 "metadata": {
  "kernelspec": {
   "display_name": "Python 3 (ipykernel)",
   "language": "python",
   "name": "python3"
  },
  "language_info": {
   "codemirror_mode": {
    "name": "ipython",
    "version": 3
   },
   "file_extension": ".py",
   "mimetype": "text/x-python",
   "name": "python",
   "nbconvert_exporter": "python",
   "pygments_lexer": "ipython3",
   "version": "3.10.11"
  }
 },
 "nbformat": 4,
 "nbformat_minor": 5
}
