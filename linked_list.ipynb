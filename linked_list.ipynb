{
 "cells": [
  {
   "cell_type": "code",
   "execution_count": 50,
   "id": "527ae344-0584-48a6-bb10-b39a84ab1d0f",
   "metadata": {},
   "outputs": [],
   "source": [
    "class Node():\n",
    "    def __init__(self,data):\n",
    "        self.data = data \n",
    "        self.next_node = None "
   ]
  },
  {
   "cell_type": "code",
   "execution_count": 66,
   "id": "8d573308-49aa-4629-add8-c1bc6cb13ac5",
   "metadata": {},
   "outputs": [],
   "source": [
    "class LinkedList:\n",
    "    def __init__(self):\n",
    "        self.head = None \n",
    "        self.size = 0\n",
    "        \n",
    "    # O(1)\n",
    "    def insert_start(self,data):\n",
    "        self.size = self.size+1\n",
    "        new_node = Node(data)\n",
    "        \n",
    "        if self.head == None :\n",
    "            self.head = new_node\n",
    "        else:\n",
    "            new_node.next_node = self.head\n",
    "            self.head = new_node\n",
    "    \n",
    "    def get_size(self):\n",
    "        return self.size\n",
    "            \n",
    "            \n",
    "            \n"
   ]
  }
 ],
 "metadata": {
  "kernelspec": {
   "display_name": "Python 3 (ipykernel)",
   "language": "python",
   "name": "python3"
  },
  "language_info": {
   "codemirror_mode": {
    "name": "ipython",
    "version": 3
   },
   "file_extension": ".py",
   "mimetype": "text/x-python",
   "name": "python",
   "nbconvert_exporter": "python",
   "pygments_lexer": "ipython3",
   "version": "3.10.11"
  }
 },
 "nbformat": 4,
 "nbformat_minor": 5
}
