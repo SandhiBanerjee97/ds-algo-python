{
 "cells": [
  {
   "cell_type": "code",
   "execution_count": 6,
   "id": "527ae344-0584-48a6-bb10-b39a84ab1d0f",
   "metadata": {},
   "outputs": [],
   "source": [
    "class Node():\n",
    "    def __init__(self,data):\n",
    "        self.data = data \n",
    "        self.next_node = None "
   ]
  },
  {
   "cell_type": "code",
   "execution_count": 46,
   "id": "8d573308-49aa-4629-add8-c1bc6cb13ac5",
   "metadata": {},
   "outputs": [],
   "source": [
    "class LinkedList:\n",
    "    def __init__(self):\n",
    "        self.head = None \n",
    "        self.size = 0\n",
    "        \n",
    "    def get_size(self):\n",
    "        return self.size\n",
    "        \n",
    "    # O(1)\n",
    "    def insert_start(self,data):\n",
    "        self.size = self.size+1\n",
    "        new_node = Node(data)\n",
    "        \n",
    "        if self.head == None :\n",
    "            self.head = new_node\n",
    "        else:\n",
    "            new_node.next_node = self.head\n",
    "            self.head = new_node\n",
    "    \n",
    "    \n",
    "    # o(N)\n",
    "    def insert_end(self,data): \n",
    "        self.size = self.size+1\n",
    "        new_node = Node(data)\n",
    "        \n",
    "        \n",
    "        #Traverse to last node from head \n",
    "        current_node = self.head\n",
    "        while(current_node.next_node!= None):\n",
    "            current_node = current_node.next_node            \n",
    "        \n",
    "        current_node.next_node = new_node\n",
    "        \n",
    "        \n",
    "    def traverse(self):\n",
    "        current_node = self.head\n",
    "        while(current_node!= None):\n",
    "            print(\"current node data :\",current_node.data)\n",
    "            current_node = current_node.next_node            \n",
    "    \n",
    "    def remove(self,data):\n",
    "        self.size = self.size-1\n",
    "        \n",
    "        if self.head == None:\n",
    "            return\n",
    "        \n",
    "        current_node = self.head\n",
    "        previous_node = None \n",
    "        \n",
    "        while current_node.data != data:\n",
    "            previous_node = current_node\n",
    "            current_node = current_node.next_node\n",
    "            \n",
    "        ## if data is in first node \n",
    "        if previous_node == None:\n",
    "            self.head = current_node.next_node             # change reference of head to next node (because we are removing it)\n",
    "            \n",
    "        else:\n",
    "            previous_node.next_node = current_node.next_node  #update reference of previous node "
   ]
  },
  {
   "cell_type": "code",
   "execution_count": 47,
   "id": "6f35a3e6-5a24-44a9-840c-66b58f56c41e",
   "metadata": {},
   "outputs": [],
   "source": [
    "linked_list = LinkedList()\n",
    "linked_list.insert_start(10)\n",
    "linked_list.insert_start(20)\n",
    "linked_list.insert_start(30)\n",
    "linked_list.insert_end(90)\n",
    "linked_list.insert_end(80)\n",
    "linked_list.insert_end(70)"
   ]
  },
  {
   "cell_type": "code",
   "execution_count": 49,
   "id": "c8a2da40-e2fb-4de5-88b4-05017e2d17c2",
   "metadata": {},
   "outputs": [
    {
     "name": "stdout",
     "output_type": "stream",
     "text": [
      "current node data : 30\n",
      "current node data : 20\n",
      "current node data : 10\n",
      "current node data : 90\n",
      "current node data : 80\n",
      "current node data : 70\n"
     ]
    }
   ],
   "source": [
    "linked_list.traverse()"
   ]
  },
  {
   "cell_type": "code",
   "execution_count": 50,
   "id": "69d6b310-ca42-4189-ac2c-a7861639c46d",
   "metadata": {},
   "outputs": [
    {
     "data": {
      "text/plain": [
       "6"
      ]
     },
     "execution_count": 50,
     "metadata": {},
     "output_type": "execute_result"
    }
   ],
   "source": [
    "linked_list.get_size()"
   ]
  },
  {
   "cell_type": "code",
   "execution_count": 51,
   "id": "c425dadf-e99f-4710-9077-f5ae8c158584",
   "metadata": {},
   "outputs": [],
   "source": [
    "linked_list.remove(90)"
   ]
  },
  {
   "cell_type": "code",
   "execution_count": 52,
   "id": "6c289a00-40c2-4432-beb5-c88465d9be0d",
   "metadata": {},
   "outputs": [
    {
     "name": "stdout",
     "output_type": "stream",
     "text": [
      "current node data : 30\n",
      "current node data : 20\n",
      "current node data : 10\n",
      "current node data : 80\n",
      "current node data : 70\n"
     ]
    }
   ],
   "source": [
    "linked_list.traverse()"
   ]
  },
  {
   "cell_type": "code",
   "execution_count": null,
   "id": "91680e42-132d-4207-bbb5-8005a03f3f40",
   "metadata": {},
   "outputs": [],
   "source": []
  }
 ],
 "metadata": {
  "kernelspec": {
   "display_name": "Python 3 (ipykernel)",
   "language": "python",
   "name": "python3"
  },
  "language_info": {
   "codemirror_mode": {
    "name": "ipython",
    "version": 3
   },
   "file_extension": ".py",
   "mimetype": "text/x-python",
   "name": "python",
   "nbconvert_exporter": "python",
   "pygments_lexer": "ipython3",
   "version": "3.10.11"
  }
 },
 "nbformat": 4,
 "nbformat_minor": 5
}
