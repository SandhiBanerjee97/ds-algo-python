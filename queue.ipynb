{
 "cells": [
  {
   "cell_type": "code",
   "execution_count": 4,
   "id": "2f182851-a207-4079-8120-6f357a49fed8",
   "metadata": {},
   "outputs": [],
   "source": [
    "class Queue:\n",
    "    def __init__(self):\n",
    "        self.queue = []\n",
    "        \n",
    "    def is_empty(self):\n",
    "        return True if self.stack == [] else False\n",
    "    \n",
    "    def size(self):\n",
    "        return len(self.stack)\n",
    "    \n",
    "    def enqueue(self,data):\n",
    "        self.queue.append(data)\n",
    "        return data \n",
    "        \n",
    "    def dequeue(self):\n",
    "        data = self.queue[0]\n",
    "        del self.queue[0]\n",
    "        return data\n",
    "    \n",
    "    def peek(self):\n",
    "        return self.stack[0]\n",
    "    \n",
    "    "
   ]
  },
  {
   "cell_type": "code",
   "execution_count": 5,
   "id": "59c81e15-80c2-4d7c-be45-cda7398953ed",
   "metadata": {},
   "outputs": [
    {
     "name": "stdout",
     "output_type": "stream",
     "text": [
      "[11, 12, 13, 14, 15, 15]\n"
     ]
    }
   ],
   "source": [
    "queue_obj = Queue()\n",
    "queue_obj.enqueue(11)\n",
    "queue_obj.enqueue(12)\n",
    "queue_obj.enqueue(13)\n",
    "queue_obj.enqueue(14)\n",
    "queue_obj.enqueue(15)\n",
    "queue_obj.enqueue(15)\n",
    "print(queue_obj.queue)"
   ]
  },
  {
   "cell_type": "code",
   "execution_count": 6,
   "id": "444e5729-0908-4119-ab17-e6b1dca9684a",
   "metadata": {},
   "outputs": [
    {
     "name": "stdout",
     "output_type": "stream",
     "text": [
      "[13, 14, 15, 15]\n"
     ]
    }
   ],
   "source": [
    "queue_obj.dequeue()\n",
    "queue_obj.dequeue()\n",
    "print(queue_obj.queue)"
   ]
  },
  {
   "cell_type": "code",
   "execution_count": null,
   "id": "b03da2a7-2a49-4ede-aa28-0d756c81ba78",
   "metadata": {},
   "outputs": [],
   "source": []
  }
 ],
 "metadata": {
  "kernelspec": {
   "display_name": "Python 3 (ipykernel)",
   "language": "python",
   "name": "python3"
  },
  "language_info": {
   "codemirror_mode": {
    "name": "ipython",
    "version": 3
   },
   "file_extension": ".py",
   "mimetype": "text/x-python",
   "name": "python",
   "nbconvert_exporter": "python",
   "pygments_lexer": "ipython3",
   "version": "3.10.11"
  }
 },
 "nbformat": 4,
 "nbformat_minor": 5
}
