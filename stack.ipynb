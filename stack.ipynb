{
 "cells": [
  {
   "cell_type": "code",
   "execution_count": 46,
   "id": "9e9c0d6d-09ef-4472-b152-a01d9d29a0a9",
   "metadata": {},
   "outputs": [],
   "source": [
    "class Stack:\n",
    "    def __init__(self):\n",
    "        self.stack = []\n",
    "        \n",
    "    def is_empty(self):\n",
    "        return True if self.stack == [] else False\n",
    "        \n",
    "    def push(self,data):\n",
    "        self.stack.append(data)\n",
    "        return data\n",
    "        \n",
    "    def pop(self):\n",
    "        data = self.stack[-1]\n",
    "        del self.stack[-1]\n",
    "        return data\n",
    "        \n",
    "    def peek(self):\n",
    "        return self.stack[-1]\n",
    "    \n",
    "    def size(self):\n",
    "        return len(self.stack)\n",
    "    \n",
    "    "
   ]
  },
  {
   "cell_type": "code",
   "execution_count": 50,
   "id": "10764918-aa08-4322-a2a2-fbbb4f801854",
   "metadata": {},
   "outputs": [
    {
     "name": "stdout",
     "output_type": "stream",
     "text": [
      "88\n",
      "77\n",
      "7\n"
     ]
    }
   ],
   "source": [
    "stack_obj = Stack()\n",
    "stack_obj.push(11)\n",
    "stack_obj.push(22)\n",
    "stack_obj.push(33)\n",
    "stack_obj.push(44)\n",
    "stack_obj.push(55)\n",
    "stack_obj.push(66)\n",
    "stack_obj.push(77)\n",
    "stack_obj.push(88)\n",
    "print(stack_obj.pop())\n",
    "print(stack_obj.peek())\n",
    "print(stack_obj.size())"
   ]
  },
  {
   "cell_type": "code",
   "execution_count": null,
   "id": "4263f9dd-0d17-40fb-911a-85c8b374b7f1",
   "metadata": {},
   "outputs": [],
   "source": []
  }
 ],
 "metadata": {
  "kernelspec": {
   "display_name": "Python 3 (ipykernel)",
   "language": "python",
   "name": "python3"
  },
  "language_info": {
   "codemirror_mode": {
    "name": "ipython",
    "version": 3
   },
   "file_extension": ".py",
   "mimetype": "text/x-python",
   "name": "python",
   "nbconvert_exporter": "python",
   "pygments_lexer": "ipython3",
   "version": "3.10.11"
  }
 },
 "nbformat": 4,
 "nbformat_minor": 5
}
